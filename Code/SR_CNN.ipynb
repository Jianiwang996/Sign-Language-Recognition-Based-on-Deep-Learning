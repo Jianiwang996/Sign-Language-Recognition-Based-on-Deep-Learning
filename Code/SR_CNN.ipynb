{
 "cells": [
  {
   "cell_type": "code",
   "execution_count": 22,
   "metadata": {},
   "outputs": [],
   "source": [
    "import tensorflow as tf\n",
    "import keras\n",
    "from keras.callbacks import *\n",
    "import numpy as np\n",
    "import pandas as pd\n",
    "import matplotlib.pyplot as plt\n",
    "from keras.models import Sequential\n",
    "from keras.layers import *"
   ]
  },
  {
   "cell_type": "code",
   "execution_count": 23,
   "metadata": {},
   "outputs": [],
   "source": [
    "traindata = pd.read_csv('sign_mnist_train.csv')"
   ]
  },
  {
   "cell_type": "code",
   "execution_count": 17,
   "metadata": {},
   "outputs": [],
   "source": [
    "trainlabel=traindata['label'].values"
   ]
  },
  {
   "cell_type": "code",
   "execution_count": 18,
   "metadata": {},
   "outputs": [],
   "source": [
    "traindata.drop('label',inplace=True,axis=1)\n",
    "trainimages = traindata.values"
   ]
  },
  {
   "cell_type": "code",
   "execution_count": 19,
   "metadata": {},
   "outputs": [],
   "source": [
    "trainimages=trainimages.reshape(-1,28,28,1)"
   ]
  },
  {
   "cell_type": "code",
   "execution_count": 7,
   "metadata": {},
   "outputs": [],
   "source": [
    "testdata = pd.read_csv('sign_mnist_test.csv')"
   ]
  },
  {
   "cell_type": "code",
   "execution_count": 8,
   "metadata": {},
   "outputs": [],
   "source": [
    "testlabel=testdata['label'].values"
   ]
  },
  {
   "cell_type": "code",
   "execution_count": 9,
   "metadata": {},
   "outputs": [],
   "source": [
    "testdata.drop('label',inplace=True,axis=1)\n",
    "testimages = testdata.values"
   ]
  },
  {
   "cell_type": "code",
   "execution_count": 10,
   "metadata": {},
   "outputs": [],
   "source": [
    "testimages=testimages.reshape(-1,28,28,1)"
   ]
  },
  {
   "cell_type": "code",
   "execution_count": 11,
   "metadata": {},
   "outputs": [],
   "source": [
    "from keras.preprocessing.image import ImageDataGenerator\n",
    "traingen=ImageDataGenerator(rotation_range=40,zoom_range=0.2,width_shift_range=0.2,height_shift_range=0.2,\n",
    "                  shear_range=0.2,horizontal_flip=True,rescale=1/255.0,validation_split=0.2)\n",
    "traindata_generator = traingen.flow(trainimages,trainlabel,subset='training')\n",
    "validationdata_generator = traingen.flow(trainimages,trainlabel,subset='validation')\n",
    "testgen=ImageDataGenerator(rescale=1/255.0)\n",
    "testdata_generator = testgen.flow(testimages,testlabel)"
   ]
  },
  {
   "cell_type": "code",
   "execution_count": 12,
   "metadata": {},
   "outputs": [],
   "source": [
    "model=Sequential([])\n",
    "\n",
    "model.add(Conv2D(64,(3,3),activation=\"relu\",input_shape=(28,28,1)))\n",
    "\n",
    "model.add(MaxPooling2D(2,2))\n",
    "\n",
    "\n",
    "model.add(Conv2D(128,(3,3),activation=\"relu\"))\n",
    "\n",
    "model.add(MaxPooling2D(2,2))\n",
    "\n",
    "\n",
    "model.add(Flatten())\n",
    "\n",
    "model.add(Dense(256,activation=\"relu\"))\n",
    "\n",
    "model.add(Dense(26,activation=\"softmax\"))"
   ]
  },
  {
   "cell_type": "code",
   "execution_count": 13,
   "metadata": {},
   "outputs": [],
   "source": [
    "model.compile(loss=\"sparse_categorical_crossentropy\",optimizer='adam',metrics=['accuracy'])"
   ]
  },
  {
   "cell_type": "code",
   "execution_count": 34,
   "metadata": {},
   "outputs": [],
   "source": [
    "# Define a Callback class that stops training once accuracy reaches 97.0%\n",
    "class myCallback(Callback):\n",
    "  def on_epoch_end(self, epoch, logs={}):\n",
    "    if(logs.get('accuracy')==1.0):\n",
    "      print(\"\\nReached 100.0% accuracy so cancelling training!\")\n",
    "      self.model.stop_training = True\n",
    "callback=myCallback()"
   ]
  },
  {
   "cell_type": "code",
   "execution_count": 35,
   "metadata": {},
   "outputs": [
    {
     "name": "stdout",
     "output_type": "stream",
     "text": [
      "Epoch 1/100\n",
      "687/687 [==============================] - 48s 69ms/step - loss: 2.7664 - accuracy: 0.1607 - val_loss: 2.2583 - val_accuracy: 0.2910\n",
      "Epoch 2/100\n",
      "687/687 [==============================] - 68s 99ms/step - loss: 1.9793 - accuracy: 0.3757 - val_loss: 1.7078 - val_accuracy: 0.4478\n",
      "Epoch 3/100\n",
      "687/687 [==============================] - 67s 98ms/step - loss: 1.5704 - accuracy: 0.4949 - val_loss: 1.3786 - val_accuracy: 0.5629\n",
      "Epoch 4/100\n",
      "687/687 [==============================] - 51s 74ms/step - loss: 1.3092 - accuracy: 0.5725 - val_loss: 1.2208 - val_accuracy: 0.6034\n",
      "Epoch 5/100\n",
      "687/687 [==============================] - 54s 78ms/step - loss: 1.1450 - accuracy: 0.6237 - val_loss: 1.0945 - val_accuracy: 0.6359\n",
      "Epoch 6/100\n",
      "687/687 [==============================] - 51s 74ms/step - loss: 0.9964 - accuracy: 0.6689 - val_loss: 0.9440 - val_accuracy: 0.6813\n",
      "Epoch 7/100\n",
      "687/687 [==============================] - 68s 99ms/step - loss: 0.8898 - accuracy: 0.7044 - val_loss: 0.8605 - val_accuracy: 0.7133\n",
      "Epoch 8/100\n",
      "687/687 [==============================] - 59s 86ms/step - loss: 0.8150 - accuracy: 0.7273 - val_loss: 0.7497 - val_accuracy: 0.7520\n",
      "Epoch 9/100\n",
      "687/687 [==============================] - 46s 68ms/step - loss: 0.7303 - accuracy: 0.7544 - val_loss: 0.7821 - val_accuracy: 0.7323\n",
      "Epoch 10/100\n",
      "687/687 [==============================] - 48s 71ms/step - loss: 0.6819 - accuracy: 0.7709 - val_loss: 0.6530 - val_accuracy: 0.7907\n",
      "Epoch 11/100\n",
      "687/687 [==============================] - 53s 78ms/step - loss: 0.6483 - accuracy: 0.7824 - val_loss: 0.5989 - val_accuracy: 0.8075\n",
      "Epoch 12/100\n",
      "687/687 [==============================] - 64s 94ms/step - loss: 0.6058 - accuracy: 0.7998 - val_loss: 0.5861 - val_accuracy: 0.8070\n",
      "Epoch 13/100\n",
      "687/687 [==============================] - 56s 82ms/step - loss: 0.5655 - accuracy: 0.8120 - val_loss: 0.5523 - val_accuracy: 0.8141\n",
      "Epoch 14/100\n",
      "687/687 [==============================] - 60s 88ms/step - loss: 0.5311 - accuracy: 0.8234 - val_loss: 0.4964 - val_accuracy: 0.8352\n",
      "Epoch 15/100\n",
      "687/687 [==============================] - 61s 88ms/step - loss: 0.5129 - accuracy: 0.8258 - val_loss: 0.4644 - val_accuracy: 0.8498\n",
      "Epoch 16/100\n",
      "687/687 [==============================] - 48s 71ms/step - loss: 0.4882 - accuracy: 0.8357 - val_loss: 0.4835 - val_accuracy: 0.8339\n",
      "Epoch 17/100\n",
      "687/687 [==============================] - 49s 71ms/step - loss: 0.4718 - accuracy: 0.8422 - val_loss: 0.4643 - val_accuracy: 0.8456\n",
      "Epoch 18/100\n",
      "687/687 [==============================] - 51s 75ms/step - loss: 0.4462 - accuracy: 0.8498 - val_loss: 0.4292 - val_accuracy: 0.8521\n",
      "Epoch 19/100\n",
      "687/687 [==============================] - 48s 70ms/step - loss: 0.4258 - accuracy: 0.8563 - val_loss: 0.4051 - val_accuracy: 0.8667\n",
      "Epoch 20/100\n",
      "687/687 [==============================] - 53s 77ms/step - loss: 0.4063 - accuracy: 0.8661 - val_loss: 0.4502 - val_accuracy: 0.8503\n",
      "Epoch 21/100\n",
      "687/687 [==============================] - 50s 73ms/step - loss: 0.4048 - accuracy: 0.8640 - val_loss: 0.4135 - val_accuracy: 0.8565\n",
      "Epoch 22/100\n",
      "687/687 [==============================] - 70s 102ms/step - loss: 0.3764 - accuracy: 0.8730 - val_loss: 0.3797 - val_accuracy: 0.8696\n",
      "Epoch 23/100\n",
      "687/687 [==============================] - 42s 61ms/step - loss: 0.3609 - accuracy: 0.8810 - val_loss: 0.3472 - val_accuracy: 0.8820\n",
      "Epoch 24/100\n",
      "687/687 [==============================] - 39s 57ms/step - loss: 0.3594 - accuracy: 0.8789 - val_loss: 0.3534 - val_accuracy: 0.8805\n",
      "Epoch 25/100\n",
      "687/687 [==============================] - 43s 62ms/step - loss: 0.3410 - accuracy: 0.8874 - val_loss: 0.3247 - val_accuracy: 0.8949\n",
      "Epoch 26/100\n",
      "687/687 [==============================] - 39s 57ms/step - loss: 0.3240 - accuracy: 0.8895 - val_loss: 0.3537 - val_accuracy: 0.8854\n",
      "Epoch 27/100\n",
      "687/687 [==============================] - 60s 87ms/step - loss: 0.3213 - accuracy: 0.8928 - val_loss: 0.3241 - val_accuracy: 0.8911\n",
      "Epoch 28/100\n",
      "687/687 [==============================] - 61s 89ms/step - loss: 0.3113 - accuracy: 0.8980 - val_loss: 0.3082 - val_accuracy: 0.8956\n",
      "Epoch 29/100\n",
      "687/687 [==============================] - 76s 110ms/step - loss: 0.2999 - accuracy: 0.8986 - val_loss: 0.3754 - val_accuracy: 0.8765\n",
      "Epoch 30/100\n",
      "687/687 [==============================] - 48s 70ms/step - loss: 0.3039 - accuracy: 0.8985 - val_loss: 0.2920 - val_accuracy: 0.9029\n",
      "Epoch 31/100\n",
      "687/687 [==============================] - 40s 58ms/step - loss: 0.2901 - accuracy: 0.9054 - val_loss: 0.2796 - val_accuracy: 0.9042\n",
      "Epoch 32/100\n",
      "687/687 [==============================] - 40s 58ms/step - loss: 0.2820 - accuracy: 0.9069 - val_loss: 0.2810 - val_accuracy: 0.9051\n",
      "Epoch 33/100\n",
      "687/687 [==============================] - 39s 57ms/step - loss: 0.2781 - accuracy: 0.9079 - val_loss: 0.3106 - val_accuracy: 0.8969\n",
      "Epoch 34/100\n",
      "687/687 [==============================] - 40s 58ms/step - loss: 0.2676 - accuracy: 0.9104 - val_loss: 0.2803 - val_accuracy: 0.9097\n",
      "Epoch 35/100\n",
      "687/687 [==============================] - 39s 57ms/step - loss: 0.2527 - accuracy: 0.9159 - val_loss: 0.3012 - val_accuracy: 0.9031\n",
      "Epoch 36/100\n",
      "687/687 [==============================] - 42s 62ms/step - loss: 0.2617 - accuracy: 0.9150 - val_loss: 0.2622 - val_accuracy: 0.9111\n",
      "Epoch 37/100\n",
      "687/687 [==============================] - 47s 69ms/step - loss: 0.2657 - accuracy: 0.9120 - val_loss: 0.2972 - val_accuracy: 0.8997\n",
      "Epoch 38/100\n",
      "687/687 [==============================] - 46s 66ms/step - loss: 0.2590 - accuracy: 0.9156 - val_loss: 0.2445 - val_accuracy: 0.9188\n",
      "Epoch 39/100\n",
      "687/687 [==============================] - 45s 66ms/step - loss: 0.2409 - accuracy: 0.9192 - val_loss: 0.2727 - val_accuracy: 0.9133\n",
      "Epoch 40/100\n",
      "687/687 [==============================] - 48s 69ms/step - loss: 0.2561 - accuracy: 0.9163 - val_loss: 0.2617 - val_accuracy: 0.9142\n",
      "Epoch 41/100\n",
      "687/687 [==============================] - 45s 65ms/step - loss: 0.2456 - accuracy: 0.9171 - val_loss: 0.2438 - val_accuracy: 0.9164\n",
      "Epoch 42/100\n",
      "687/687 [==============================] - 59s 86ms/step - loss: 0.2393 - accuracy: 0.9222 - val_loss: 0.2448 - val_accuracy: 0.9180\n",
      "Epoch 43/100\n",
      "687/687 [==============================] - 50s 73ms/step - loss: 0.2325 - accuracy: 0.9234 - val_loss: 0.2247 - val_accuracy: 0.9239\n",
      "Epoch 44/100\n",
      "687/687 [==============================] - 43s 63ms/step - loss: 0.2259 - accuracy: 0.9232 - val_loss: 0.2231 - val_accuracy: 0.9253\n",
      "Epoch 45/100\n",
      "687/687 [==============================] - 41s 60ms/step - loss: 0.2286 - accuracy: 0.9243 - val_loss: 0.2142 - val_accuracy: 0.9275\n",
      "Epoch 46/100\n",
      "687/687 [==============================] - 40s 58ms/step - loss: 0.2169 - accuracy: 0.9287 - val_loss: 0.2083 - val_accuracy: 0.9337\n",
      "Epoch 47/100\n",
      "687/687 [==============================] - 40s 58ms/step - loss: 0.2130 - accuracy: 0.9323 - val_loss: 0.2444 - val_accuracy: 0.9146\n",
      "Epoch 48/100\n",
      "687/687 [==============================] - 40s 58ms/step - loss: 0.2149 - accuracy: 0.9280 - val_loss: 0.2065 - val_accuracy: 0.9339\n",
      "Epoch 49/100\n",
      "687/687 [==============================] - 39s 57ms/step - loss: 0.2206 - accuracy: 0.9306 - val_loss: 0.2090 - val_accuracy: 0.9286\n",
      "Epoch 50/100\n",
      "687/687 [==============================] - 40s 58ms/step - loss: 0.2059 - accuracy: 0.9325 - val_loss: 0.2331 - val_accuracy: 0.9211\n",
      "Epoch 51/100\n",
      "687/687 [==============================] - 40s 58ms/step - loss: 0.2070 - accuracy: 0.9321 - val_loss: 0.2090 - val_accuracy: 0.9286\n",
      "Epoch 52/100\n",
      "687/687 [==============================] - 41s 59ms/step - loss: 0.2003 - accuracy: 0.9322 - val_loss: 0.2077 - val_accuracy: 0.9279\n",
      "Epoch 53/100\n",
      "687/687 [==============================] - 42s 61ms/step - loss: 0.1935 - accuracy: 0.9364 - val_loss: 0.2108 - val_accuracy: 0.9304\n",
      "Epoch 54/100\n",
      "687/687 [==============================] - 43s 63ms/step - loss: 0.2015 - accuracy: 0.9329 - val_loss: 0.2603 - val_accuracy: 0.9128\n",
      "Epoch 55/100\n",
      "687/687 [==============================] - 48s 69ms/step - loss: 0.1902 - accuracy: 0.9352 - val_loss: 0.1946 - val_accuracy: 0.9357\n",
      "Epoch 56/100\n",
      "687/687 [==============================] - 65s 94ms/step - loss: 0.2017 - accuracy: 0.9336 - val_loss: 0.2053 - val_accuracy: 0.9312\n",
      "Epoch 57/100\n",
      "687/687 [==============================] - 46s 67ms/step - loss: 0.1995 - accuracy: 0.9351 - val_loss: 0.1879 - val_accuracy: 0.9381\n",
      "Epoch 58/100\n",
      "687/687 [==============================] - 47s 68ms/step - loss: 0.1841 - accuracy: 0.9389 - val_loss: 0.1771 - val_accuracy: 0.9428\n",
      "Epoch 59/100\n",
      "687/687 [==============================] - 64s 93ms/step - loss: 0.1988 - accuracy: 0.9356 - val_loss: 0.1871 - val_accuracy: 0.9381\n",
      "Epoch 60/100\n",
      "687/687 [==============================] - 51s 74ms/step - loss: 0.1835 - accuracy: 0.9394 - val_loss: 0.2181 - val_accuracy: 0.9275\n",
      "Epoch 61/100\n",
      "687/687 [==============================] - 41s 59ms/step - loss: 0.1802 - accuracy: 0.9396 - val_loss: 0.1910 - val_accuracy: 0.9350\n",
      "Epoch 62/100\n",
      "687/687 [==============================] - 39s 57ms/step - loss: 0.1803 - accuracy: 0.9409 - val_loss: 0.1728 - val_accuracy: 0.9457\n",
      "Epoch 63/100\n",
      "687/687 [==============================] - 40s 58ms/step - loss: 0.1805 - accuracy: 0.9404 - val_loss: 0.2151 - val_accuracy: 0.9297\n",
      "Epoch 64/100\n",
      "687/687 [==============================] - 39s 57ms/step - loss: 0.1880 - accuracy: 0.9377 - val_loss: 0.1852 - val_accuracy: 0.9355\n",
      "Epoch 65/100\n",
      "687/687 [==============================] - 39s 56ms/step - loss: 0.1763 - accuracy: 0.9406 - val_loss: 0.2094 - val_accuracy: 0.9324\n",
      "Epoch 66/100\n",
      "687/687 [==============================] - 40s 58ms/step - loss: 0.1743 - accuracy: 0.9427 - val_loss: 0.1723 - val_accuracy: 0.9477\n",
      "Epoch 67/100\n",
      "687/687 [==============================] - 39s 57ms/step - loss: 0.1731 - accuracy: 0.9436 - val_loss: 0.1657 - val_accuracy: 0.9417\n",
      "Epoch 68/100\n",
      "687/687 [==============================] - 39s 57ms/step - loss: 0.1651 - accuracy: 0.9455 - val_loss: 0.1780 - val_accuracy: 0.9419\n",
      "Epoch 69/100\n",
      "687/687 [==============================] - 39s 57ms/step - loss: 0.1766 - accuracy: 0.9405 - val_loss: 0.2009 - val_accuracy: 0.9361\n",
      "Epoch 70/100\n",
      "687/687 [==============================] - 40s 58ms/step - loss: 0.1710 - accuracy: 0.9436 - val_loss: 0.1638 - val_accuracy: 0.9499\n",
      "Epoch 71/100\n",
      "687/687 [==============================] - 39s 57ms/step - loss: 0.1638 - accuracy: 0.9460 - val_loss: 0.1843 - val_accuracy: 0.9390\n",
      "Epoch 72/100\n",
      "687/687 [==============================] - 39s 56ms/step - loss: 0.1713 - accuracy: 0.9431 - val_loss: 0.1783 - val_accuracy: 0.9403\n",
      "Epoch 73/100\n",
      "687/687 [==============================] - 39s 56ms/step - loss: 0.1641 - accuracy: 0.9439 - val_loss: 0.1537 - val_accuracy: 0.9477\n",
      "Epoch 74/100\n",
      "687/687 [==============================] - 39s 57ms/step - loss: 0.1591 - accuracy: 0.9463 - val_loss: 0.1523 - val_accuracy: 0.9494\n",
      "Epoch 75/100\n",
      "687/687 [==============================] - 52s 76ms/step - loss: 0.1557 - accuracy: 0.9477 - val_loss: 0.1847 - val_accuracy: 0.9401\n",
      "Epoch 76/100\n",
      "687/687 [==============================] - 61s 89ms/step - loss: 0.1568 - accuracy: 0.9484 - val_loss: 0.1723 - val_accuracy: 0.9457\n",
      "Epoch 77/100\n",
      "687/687 [==============================] - 47s 68ms/step - loss: 0.1583 - accuracy: 0.9491 - val_loss: 0.1626 - val_accuracy: 0.9468\n",
      "Epoch 78/100\n",
      "687/687 [==============================] - 47s 68ms/step - loss: 0.1550 - accuracy: 0.9486 - val_loss: 0.1704 - val_accuracy: 0.9454\n",
      "Epoch 79/100\n",
      "687/687 [==============================] - 46s 68ms/step - loss: 0.1584 - accuracy: 0.9469 - val_loss: 0.1713 - val_accuracy: 0.9485\n",
      "Epoch 80/100\n",
      "687/687 [==============================] - 46s 68ms/step - loss: 0.1608 - accuracy: 0.9469 - val_loss: 0.1314 - val_accuracy: 0.9585\n",
      "Epoch 81/100\n",
      "687/687 [==============================] - 47s 68ms/step - loss: 0.1495 - accuracy: 0.9500 - val_loss: 0.1424 - val_accuracy: 0.9496\n",
      "Epoch 82/100\n",
      "687/687 [==============================] - 47s 68ms/step - loss: 0.1428 - accuracy: 0.9529 - val_loss: 0.1372 - val_accuracy: 0.9583\n",
      "Epoch 83/100\n",
      "687/687 [==============================] - 47s 68ms/step - loss: 0.1607 - accuracy: 0.9467 - val_loss: 0.1574 - val_accuracy: 0.9476\n",
      "Epoch 84/100\n",
      "687/687 [==============================] - 46s 68ms/step - loss: 0.1431 - accuracy: 0.9537 - val_loss: 0.1638 - val_accuracy: 0.9445\n",
      "Epoch 85/100\n",
      "687/687 [==============================] - 46s 67ms/step - loss: 0.1547 - accuracy: 0.9499 - val_loss: 0.1599 - val_accuracy: 0.9472\n",
      "Epoch 86/100\n",
      "687/687 [==============================] - 47s 68ms/step - loss: 0.1350 - accuracy: 0.9555 - val_loss: 0.1608 - val_accuracy: 0.9499\n",
      "Epoch 87/100\n",
      "687/687 [==============================] - 50s 73ms/step - loss: 0.1474 - accuracy: 0.9517 - val_loss: 0.1569 - val_accuracy: 0.9463\n",
      "Epoch 88/100\n",
      "687/687 [==============================] - 51s 74ms/step - loss: 0.1603 - accuracy: 0.9486 - val_loss: 0.1662 - val_accuracy: 0.9485\n",
      "Epoch 89/100\n",
      "687/687 [==============================] - 44s 65ms/step - loss: 0.1365 - accuracy: 0.9547 - val_loss: 0.1705 - val_accuracy: 0.9439\n",
      "Epoch 90/100\n",
      "687/687 [==============================] - 44s 65ms/step - loss: 0.1493 - accuracy: 0.9518 - val_loss: 0.1633 - val_accuracy: 0.9414\n",
      "Epoch 91/100\n",
      "687/687 [==============================] - 46s 67ms/step - loss: 0.1406 - accuracy: 0.9540 - val_loss: 0.1772 - val_accuracy: 0.9432\n",
      "Epoch 92/100\n",
      "687/687 [==============================] - 44s 65ms/step - loss: 0.1508 - accuracy: 0.9523 - val_loss: 0.1313 - val_accuracy: 0.9572\n",
      "Epoch 93/100\n",
      "687/687 [==============================] - 44s 64ms/step - loss: 0.1402 - accuracy: 0.9547 - val_loss: 0.1306 - val_accuracy: 0.9539\n",
      "Epoch 94/100\n",
      "687/687 [==============================] - 44s 65ms/step - loss: 0.1338 - accuracy: 0.9544 - val_loss: 0.1651 - val_accuracy: 0.9455\n",
      "Epoch 95/100\n",
      "687/687 [==============================] - 46s 67ms/step - loss: 0.1430 - accuracy: 0.9537 - val_loss: 0.1340 - val_accuracy: 0.9596\n",
      "Epoch 96/100\n",
      "687/687 [==============================] - 45s 65ms/step - loss: 0.1369 - accuracy: 0.9574 - val_loss: 0.1754 - val_accuracy: 0.9401\n",
      "Epoch 97/100\n",
      "687/687 [==============================] - 46s 67ms/step - loss: 0.1442 - accuracy: 0.9535 - val_loss: 0.1610 - val_accuracy: 0.9474\n",
      "Epoch 98/100\n",
      "687/687 [==============================] - 46s 67ms/step - loss: 0.1546 - accuracy: 0.9517 - val_loss: 0.1367 - val_accuracy: 0.9545\n",
      "Epoch 99/100\n",
      "687/687 [==============================] - 61s 89ms/step - loss: 0.1413 - accuracy: 0.9531 - val_loss: 0.1405 - val_accuracy: 0.9563\n",
      "Epoch 100/100\n",
      "687/687 [==============================] - 65s 94ms/step - loss: 0.1370 - accuracy: 0.9556 - val_loss: 0.1331 - val_accuracy: 0.9563\n"
     ]
    }
   ],
   "source": [
    "history=model.fit(traindata_generator,epochs=100,validation_data=validationdata_generator,callbacks=[callback])"
   ]
  },
  {
   "cell_type": "code",
   "execution_count": 36,
   "metadata": {},
   "outputs": [
    {
     "data": {
      "image/png": "[encoded data removed]",
      "text/plain": [
       "<Figure size 432x288 with 1 Axes>"
      ]
     },
     "metadata": {
      "needs_background": "light"
     },
     "output_type": "display_data"
    },
    {
     "data": {
      "image/png": "[encoded data removed]",
      "text/plain": [
       "<Figure size 432x288 with 1 Axes>"
      ]
     },
     "metadata": {
      "needs_background": "light"
     },
     "output_type": "display_data"
    }
   ],
   "source": [
    "acc = history.history['accuracy']\n",
    "val_acc = history.history['val_accuracy']\n",
    "loss = history.history['loss']\n",
    "val_loss = history.history['val_loss']\n",
    "\n",
    "epochs = range(len(acc))\n",
    "\n",
    "plt.plot(epochs, acc, 'r', label='Training accuracy')\n",
    "plt.plot(epochs, val_acc, 'b', label='Validation accuracy')\n",
    "plt.title('Training and validation accuracy')\n",
    "plt.legend()\n",
    "plt.figure()\n",
    "\n",
    "plt.plot(epochs, loss, 'r', label='Training Loss')\n",
    "plt.plot(epochs, val_loss, 'b', label='Validation Loss')\n",
    "plt.title('Training and validation loss')\n",
    "plt.legend()\n",
    "\n",
    "plt.show()"
   ]
  },
  {
   "cell_type": "code",
   "execution_count": 37,
   "metadata": {},
   "outputs": [
    {
     "name": "stdout",
     "output_type": "stream",
     "text": [
      "WARNING:tensorflow:From <ipython-input-37-a639780c2ca8>:1: Model.evaluate_generator (from tensorflow.python.keras.engine.training) is deprecated and will be removed in a future version.\n",
      "Instructions for updating:\n",
      "Please use Model.evaluate, which supports generators.\n"
     ]
    },
    {
     "data": {
      "text/plain": [
       "0.9764361381530762"
      ]
     },
     "execution_count": 37,
     "metadata": {},
     "output_type": "execute_result"
    }
   ],
   "source": [
    "model.evaluate_generator(testdata_generator)[1]"
   ]
  },
  {
   "cell_type": "code",
   "execution_count": null,
   "metadata": {},
   "outputs": [],
   "source": []
  }
 ],
 "metadata": {
  "kernelspec": {
   "display_name": "Python 3",
   "language": "python",
   "name": "python3"
  },
  "language_info": {
   "codemirror_mode": {
    "name": "ipython",
    "version": 3
   },
   "file_extension": ".py",
   "mimetype": "text/x-python",
   "name": "python",
   "nbconvert_exporter": "python",
   "pygments_lexer": "ipython3",
   "version": "3.7.0"
  }
 },
 "nbformat": 4,
 "nbformat_minor": 4
}
